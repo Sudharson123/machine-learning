{
 "cells": [
  {
   "cell_type": "code",
   "execution_count": 11,
   "metadata": {
    "_cell_guid": "b1076dfc-b9ad-4769-8c92-a6c4dae69d19",
    "_uuid": "8f2839f25d086af736a60e9eeb907d3b93b6e0e5",
    "execution": {
     "iopub.execute_input": "2021-12-23T15:29:02.679083Z",
     "iopub.status.busy": "2021-12-23T15:29:02.678400Z",
     "iopub.status.idle": "2021-12-23T15:29:02.683424Z",
     "shell.execute_reply": "2021-12-23T15:29:02.682753Z",
     "shell.execute_reply.started": "2021-12-23T15:29:02.679043Z"
    }
   },
   "outputs": [],
   "source": [
    "import numpy as np\n",
    "import nltk\n",
    "import pandas as pd\n",
    "from nltk.corpus import stopwords\n",
    "from nltk.tokenize import word_tokenize\n",
    "import string\n",
    "from sklearn.feature_extraction.text import CountVectorizer\n",
    "from sklearn.model_selection import train_test_split\n",
    "from sklearn.naive_bayes import MultinomialNB\n",
    "from sklearn.metrics import classification_report, accuracy_score, confusion_matrix"
   ]
  },
  {
   "cell_type": "code",
   "execution_count": 13,
   "metadata": {
    "execution": {
     "iopub.execute_input": "2021-12-23T15:29:02.697837Z",
     "iopub.status.busy": "2021-12-23T15:29:02.697386Z",
     "iopub.status.idle": "2021-12-23T15:29:02.729322Z",
     "shell.execute_reply": "2021-12-23T15:29:02.728734Z",
     "shell.execute_reply.started": "2021-12-23T15:29:02.697800Z"
    }
   },
   "outputs": [
    {
     "data": {
      "text/html": [
       "<div>\n",
       "<style scoped>\n",
       "    .dataframe tbody tr th:only-of-type {\n",
       "        vertical-align: middle;\n",
       "    }\n",
       "\n",
       "    .dataframe tbody tr th {\n",
       "        vertical-align: top;\n",
       "    }\n",
       "\n",
       "    .dataframe thead th {\n",
       "        text-align: right;\n",
       "    }\n",
       "</style>\n",
       "<table border=\"1\" class=\"dataframe\">\n",
       "  <thead>\n",
       "    <tr style=\"text-align: right;\">\n",
       "      <th></th>\n",
       "      <th>Spam</th>\n",
       "      <th>Text</th>\n",
       "    </tr>\n",
       "  </thead>\n",
       "  <tbody>\n",
       "    <tr>\n",
       "      <th>0</th>\n",
       "      <td>0</td>\n",
       "      <td>Go until jurong point, crazy.. Available only ...</td>\n",
       "    </tr>\n",
       "    <tr>\n",
       "      <th>1</th>\n",
       "      <td>0</td>\n",
       "      <td>Ok lar... Joking wif u oni...</td>\n",
       "    </tr>\n",
       "    <tr>\n",
       "      <th>2</th>\n",
       "      <td>1</td>\n",
       "      <td>Free entry in 2 a wkly comp to win FA Cup fina...</td>\n",
       "    </tr>\n",
       "    <tr>\n",
       "      <th>3</th>\n",
       "      <td>0</td>\n",
       "      <td>U dun say so early hor... U c already then say...</td>\n",
       "    </tr>\n",
       "    <tr>\n",
       "      <th>4</th>\n",
       "      <td>0</td>\n",
       "      <td>Nah I don't think he goes to usf, he lives aro...</td>\n",
       "    </tr>\n",
       "    <tr>\n",
       "      <th>...</th>\n",
       "      <td>...</td>\n",
       "      <td>...</td>\n",
       "    </tr>\n",
       "    <tr>\n",
       "      <th>5567</th>\n",
       "      <td>1</td>\n",
       "      <td>This is the 2nd time we have tried 2 contact u...</td>\n",
       "    </tr>\n",
       "    <tr>\n",
       "      <th>5568</th>\n",
       "      <td>0</td>\n",
       "      <td>Will Ì_ b going to esplanade fr home?</td>\n",
       "    </tr>\n",
       "    <tr>\n",
       "      <th>5569</th>\n",
       "      <td>0</td>\n",
       "      <td>Pity, * was in mood for that. So...any other s...</td>\n",
       "    </tr>\n",
       "    <tr>\n",
       "      <th>5570</th>\n",
       "      <td>0</td>\n",
       "      <td>The guy did some bitching but I acted like i'd...</td>\n",
       "    </tr>\n",
       "    <tr>\n",
       "      <th>5571</th>\n",
       "      <td>0</td>\n",
       "      <td>Rofl. Its true to its name</td>\n",
       "    </tr>\n",
       "  </tbody>\n",
       "</table>\n",
       "<p>5572 rows × 2 columns</p>\n",
       "</div>"
      ],
      "text/plain": [
       "      Spam                                               Text\n",
       "0        0  Go until jurong point, crazy.. Available only ...\n",
       "1        0                      Ok lar... Joking wif u oni...\n",
       "2        1  Free entry in 2 a wkly comp to win FA Cup fina...\n",
       "3        0  U dun say so early hor... U c already then say...\n",
       "4        0  Nah I don't think he goes to usf, he lives aro...\n",
       "...    ...                                                ...\n",
       "5567     1  This is the 2nd time we have tried 2 contact u...\n",
       "5568     0              Will Ì_ b going to esplanade fr home?\n",
       "5569     0  Pity, * was in mood for that. So...any other s...\n",
       "5570     0  The guy did some bitching but I acted like i'd...\n",
       "5571     0                         Rofl. Its true to its name\n",
       "\n",
       "[5572 rows x 2 columns]"
      ]
     },
     "execution_count": 13,
     "metadata": {},
     "output_type": "execute_result"
    }
   ],
   "source": [
    "# Loading the data\n",
    "df = pd.read_csv('spam.csv', encoding='latin-1')\n",
    "df = df.iloc[:,:2]\n",
    "df.columns = ['Spam', 'Text']\n",
    "df.Spam = df.Spam.map({'ham':0, 'spam':1})\n",
    "df"
   ]
  },
  {
   "cell_type": "markdown",
   "metadata": {},
   "source": [
    "# Processing"
   ]
  },
  {
   "cell_type": "code",
   "execution_count": 14,
   "metadata": {
    "execution": {
     "iopub.execute_input": "2021-12-23T15:29:02.731152Z",
     "iopub.status.busy": "2021-12-23T15:29:02.730728Z",
     "iopub.status.idle": "2021-12-23T15:29:02.738307Z",
     "shell.execute_reply": "2021-12-23T15:29:02.737769Z",
     "shell.execute_reply.started": "2021-12-23T15:29:02.731122Z"
    }
   },
   "outputs": [
    {
     "data": {
      "text/plain": [
       "Spam    0\n",
       "Text    0\n",
       "dtype: int64"
      ]
     },
     "execution_count": 14,
     "metadata": {},
     "output_type": "execute_result"
    }
   ],
   "source": [
    "# Missing\n",
    "df.isnull().sum()"
   ]
  },
  {
   "cell_type": "code",
   "execution_count": 15,
   "metadata": {
    "execution": {
     "iopub.execute_input": "2021-12-23T15:29:02.740057Z",
     "iopub.status.busy": "2021-12-23T15:29:02.739633Z",
     "iopub.status.idle": "2021-12-23T15:29:02.748812Z",
     "shell.execute_reply": "2021-12-23T15:29:02.748256Z",
     "shell.execute_reply.started": "2021-12-23T15:29:02.740030Z"
    }
   },
   "outputs": [],
   "source": [
    "df.drop_duplicates(inplace=True)"
   ]
  },
  {
   "cell_type": "code",
   "execution_count": 16,
   "metadata": {
    "execution": {
     "iopub.execute_input": "2021-12-23T15:29:02.752730Z",
     "iopub.status.busy": "2021-12-23T15:29:02.752295Z",
     "iopub.status.idle": "2021-12-23T15:29:02.759301Z",
     "shell.execute_reply": "2021-12-23T15:29:02.758414Z",
     "shell.execute_reply.started": "2021-12-23T15:29:02.752674Z"
    }
   },
   "outputs": [
    {
     "data": {
      "text/plain": [
       "(5169, 2)"
      ]
     },
     "execution_count": 16,
     "metadata": {},
     "output_type": "execute_result"
    }
   ],
   "source": [
    "df.shape"
   ]
  },
  {
   "cell_type": "code",
   "execution_count": 17,
   "metadata": {
    "execution": {
     "iopub.execute_input": "2021-12-23T15:29:02.761616Z",
     "iopub.status.busy": "2021-12-23T15:29:02.760949Z",
     "iopub.status.idle": "2021-12-23T15:29:02.771642Z",
     "shell.execute_reply": "2021-12-23T15:29:02.770765Z",
     "shell.execute_reply.started": "2021-12-23T15:29:02.761573Z"
    }
   },
   "outputs": [
    {
     "name": "stderr",
     "output_type": "stream",
     "text": [
      "[nltk_data] Downloading package stopwords to\n",
      "[nltk_data]     C:\\Users\\user\\AppData\\Roaming\\nltk_data...\n",
      "[nltk_data]   Unzipping corpora\\stopwords.zip.\n"
     ]
    },
    {
     "data": {
      "text/plain": [
       "True"
      ]
     },
     "execution_count": 17,
     "metadata": {},
     "output_type": "execute_result"
    }
   ],
   "source": [
    "# download stopwords\n",
    "nltk.download('stopwords')"
   ]
  },
  {
   "cell_type": "code",
   "execution_count": 18,
   "metadata": {
    "execution": {
     "iopub.execute_input": "2021-12-23T15:29:02.773564Z",
     "iopub.status.busy": "2021-12-23T15:29:02.773118Z",
     "iopub.status.idle": "2021-12-23T15:29:02.781292Z",
     "shell.execute_reply": "2021-12-23T15:29:02.780621Z",
     "shell.execute_reply.started": "2021-12-23T15:29:02.773523Z"
    }
   },
   "outputs": [],
   "source": [
    "# Process text\n",
    "def processText(text):\n",
    "    \n",
    "    # remove punctuations\n",
    "    nopunc = [c for c in text if c not in string.punctuation]\n",
    "    nopunc = ''.join(nopunc)\n",
    "    \n",
    "    # remove stopwords\n",
    "    clean = [w for w in nopunc.split() if w.lower() not in stopwords.words('english')]\n",
    "    \n",
    "    return clean"
   ]
  },
  {
   "cell_type": "markdown",
   "metadata": {},
   "source": [
    "# CountVectorizer Explanation"
   ]
  },
  {
   "cell_type": "code",
   "execution_count": 19,
   "metadata": {
    "execution": {
     "iopub.execute_input": "2021-12-23T15:29:02.782850Z",
     "iopub.status.busy": "2021-12-23T15:29:02.782155Z",
     "iopub.status.idle": "2021-12-23T15:29:02.795946Z",
     "shell.execute_reply": "2021-12-23T15:29:02.795245Z",
     "shell.execute_reply.started": "2021-12-23T15:29:02.782816Z"
    }
   },
   "outputs": [
    {
     "name": "stdout",
     "output_type": "stream",
     "text": [
      "  (0, 0)\t3\n",
      "  (0, 2)\t2\n",
      "  (1, 1)\t2 \n",
      "\n",
      "\n",
      " BOW shape :  (2, 3)\n"
     ]
    }
   ],
   "source": [
    "# CountVectorizer example\n",
    "\n",
    "msg1 = 'Hi Hi Hi world world'\n",
    "msg2 = 'We we we fine fine'\n",
    "\n",
    "bow = CountVectorizer(analyzer=processText).fit_transform([[msg1], [msg2]]) # bag of words = bow\n",
    "print(bow,'\\n\\n\\n BOW shape : ', bow.shape)"
   ]
  },
  {
   "cell_type": "code",
   "execution_count": 20,
   "metadata": {
    "execution": {
     "iopub.execute_input": "2021-12-23T15:29:02.797339Z",
     "iopub.status.busy": "2021-12-23T15:29:02.797021Z",
     "iopub.status.idle": "2021-12-23T15:29:02.807916Z",
     "shell.execute_reply": "2021-12-23T15:29:02.807078Z",
     "shell.execute_reply.started": "2021-12-23T15:29:02.797312Z"
    }
   },
   "outputs": [
    {
     "data": {
      "text/plain": [
       "{'Hi', 'fine', 'world'}"
      ]
     },
     "execution_count": 20,
     "metadata": {},
     "output_type": "execute_result"
    }
   ],
   "source": [
    "set(processText(msg1) + processText(msg2))"
   ]
  },
  {
   "cell_type": "code",
   "execution_count": 21,
   "metadata": {
    "execution": {
     "iopub.execute_input": "2021-12-23T15:29:02.810127Z",
     "iopub.status.busy": "2021-12-23T15:29:02.809786Z",
     "iopub.status.idle": "2021-12-23T15:29:02.818298Z",
     "shell.execute_reply": "2021-12-23T15:29:02.817436Z",
     "shell.execute_reply.started": "2021-12-23T15:29:02.810101Z"
    }
   },
   "outputs": [
    {
     "data": {
      "text/plain": [
       "True"
      ]
     },
     "execution_count": 21,
     "metadata": {},
     "output_type": "execute_result"
    }
   ],
   "source": [
    "len(set(processText(msg1) + processText(msg2))) ==  bow.shape[1]"
   ]
  },
  {
   "cell_type": "markdown",
   "metadata": {},
   "source": [
    "# Model\n",
    "Back to the game"
   ]
  },
  {
   "cell_type": "code",
   "execution_count": 22,
   "metadata": {
    "execution": {
     "iopub.execute_input": "2021-12-23T15:29:02.819943Z",
     "iopub.status.busy": "2021-12-23T15:29:02.819649Z",
     "iopub.status.idle": "2021-12-23T15:29:11.808777Z",
     "shell.execute_reply": "2021-12-23T15:29:11.808110Z",
     "shell.execute_reply.started": "2021-12-23T15:29:02.819915Z"
    }
   },
   "outputs": [],
   "source": [
    "# Bag of words matrix \n",
    "bow = CountVectorizer(analyzer=processText).fit_transform(df.Text)"
   ]
  },
  {
   "cell_type": "code",
   "execution_count": 23,
   "metadata": {
    "execution": {
     "iopub.execute_input": "2021-12-23T15:29:11.810314Z",
     "iopub.status.busy": "2021-12-23T15:29:11.809767Z",
     "iopub.status.idle": "2021-12-23T15:29:11.815502Z",
     "shell.execute_reply": "2021-12-23T15:29:11.814751Z",
     "shell.execute_reply.started": "2021-12-23T15:29:11.810283Z"
    }
   },
   "outputs": [
    {
     "data": {
      "text/plain": [
       "(5169, 11304)"
      ]
     },
     "execution_count": 23,
     "metadata": {},
     "output_type": "execute_result"
    }
   ],
   "source": [
    "bow.shape"
   ]
  },
  {
   "cell_type": "code",
   "execution_count": 24,
   "metadata": {
    "execution": {
     "iopub.execute_input": "2021-12-23T15:29:11.817053Z",
     "iopub.status.busy": "2021-12-23T15:29:11.816744Z",
     "iopub.status.idle": "2021-12-23T15:29:11.830929Z",
     "shell.execute_reply": "2021-12-23T15:29:11.829842Z",
     "shell.execute_reply.started": "2021-12-23T15:29:11.817021Z"
    }
   },
   "outputs": [
    {
     "name": "stdout",
     "output_type": "stream",
     "text": [
      "X_train, X_test, y_train, y_test shapes are : ((4135, 11304), (1034, 11304), (4135,), (1034,))\n"
     ]
    }
   ],
   "source": [
    "# Train test split\n",
    "X_train, X_test, y_train, y_test = train_test_split(bow, df.Spam, test_size=0.20, random_state=42)\n",
    "print(f'X_train, X_test, y_train, y_test shapes are : {X_train.shape, X_test.shape, y_train.shape, y_test.shape}')"
   ]
  },
  {
   "cell_type": "code",
   "execution_count": 25,
   "metadata": {
    "execution": {
     "iopub.execute_input": "2021-12-23T15:29:11.833349Z",
     "iopub.status.busy": "2021-12-23T15:29:11.832811Z",
     "iopub.status.idle": "2021-12-23T15:29:11.847028Z",
     "shell.execute_reply": "2021-12-23T15:29:11.846093Z",
     "shell.execute_reply.started": "2021-12-23T15:29:11.833307Z"
    }
   },
   "outputs": [
    {
     "data": {
      "text/plain": [
       "MultinomialNB()"
      ]
     },
     "execution_count": 25,
     "metadata": {},
     "output_type": "execute_result"
    }
   ],
   "source": [
    "# Model\n",
    "model = MultinomialNB()\n",
    "model.fit(X_train, y_train)"
   ]
  },
  {
   "cell_type": "code",
   "execution_count": 26,
   "metadata": {
    "execution": {
     "iopub.execute_input": "2021-12-23T15:29:11.848434Z",
     "iopub.status.busy": "2021-12-23T15:29:11.848104Z",
     "iopub.status.idle": "2021-12-23T15:29:11.854332Z",
     "shell.execute_reply": "2021-12-23T15:29:11.853743Z",
     "shell.execute_reply.started": "2021-12-23T15:29:11.848408Z"
    }
   },
   "outputs": [],
   "source": [
    "# Prediction\n",
    "preds = model.predict(X_test)"
   ]
  },
  {
   "cell_type": "code",
   "execution_count": 27,
   "metadata": {
    "execution": {
     "iopub.execute_input": "2021-12-23T15:31:07.772804Z",
     "iopub.status.busy": "2021-12-23T15:31:07.772535Z",
     "iopub.status.idle": "2021-12-23T15:31:07.783514Z",
     "shell.execute_reply": "2021-12-23T15:31:07.782964Z",
     "shell.execute_reply.started": "2021-12-23T15:31:07.772775Z"
    }
   },
   "outputs": [
    {
     "name": "stdout",
     "output_type": "stream",
     "text": [
      "Classification report : \n",
      "               precision    recall  f1-score   support\n",
      "\n",
      "           0       0.99      0.97      0.98       889\n",
      "           1       0.83      0.94      0.88       145\n",
      "\n",
      "    accuracy                           0.97      1034\n",
      "   macro avg       0.91      0.96      0.93      1034\n",
      "weighted avg       0.97      0.97      0.97      1034\n",
      " \n",
      "Confusion matrix \n",
      "[[861  28]\n",
      " [  8 137]]\n",
      "Accuracy score : 0.965183752417795\n"
     ]
    }
   ],
   "source": [
    "print(f'Classification report : \\n {classification_report(y_test, preds)} \\\n",
    "\\nConfusion matrix \\n{confusion_matrix(y_test, preds)}\\n\\\n",
    "Accuracy score : {accuracy_score(y_test, preds)}')\n"
   ]
  },
  {
   "cell_type": "code",
   "execution_count": 28,
   "metadata": {
    "execution": {
     "iopub.execute_input": "2021-12-23T15:31:36.355009Z",
     "iopub.status.busy": "2021-12-23T15:31:36.354305Z",
     "iopub.status.idle": "2021-12-23T15:31:36.362651Z",
     "shell.execute_reply": "2021-12-23T15:31:36.361826Z",
     "shell.execute_reply.started": "2021-12-23T15:31:36.354969Z"
    }
   },
   "outputs": [
    {
     "data": {
      "text/plain": [
       "0.9958887545344619"
      ]
     },
     "execution_count": 28,
     "metadata": {},
     "output_type": "execute_result"
    }
   ],
   "source": [
    "model.score(X_train, y_train)"
   ]
  },
  {
   "cell_type": "markdown",
   "metadata": {},
   "source": [
    "96% accuracy on test and 99% on train. Quite good. Happy coding."
   ]
  },
  {
   "cell_type": "code",
   "execution_count": null,
   "metadata": {},
   "outputs": [],
   "source": []
  }
 ],
 "metadata": {
  "kernelspec": {
   "display_name": "Python 3 (ipykernel)",
   "language": "python",
   "name": "python3"
  },
  "language_info": {
   "codemirror_mode": {
    "name": "ipython",
    "version": 3
   },
   "file_extension": ".py",
   "mimetype": "text/x-python",
   "name": "python",
   "nbconvert_exporter": "python",
   "pygments_lexer": "ipython3",
   "version": "3.10.0"
  }
 },
 "nbformat": 4,
 "nbformat_minor": 4
}
